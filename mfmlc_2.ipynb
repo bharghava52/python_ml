{
 "cells": [
  {
   "cell_type": "code",
   "execution_count": 5,
   "metadata": {},
   "outputs": [
    {
     "name": "stdout",
     "output_type": "stream",
     "text": [
      "node_size: 5 values:\n",
      "\terorr:339036.89735313103\n",
      "\t\n",
      "node_size: 50 values:\n",
      "\terorr:310748.89735313103\n",
      "\t\n",
      "node_size: 500 values:\n",
      "\terorr:309215.46998063265\n",
      "\t\n",
      "node_size: 5000 values:\n",
      "\terorr:273778.70109748223\n",
      "\t\n",
      "node_size: 50000 values:\n",
      "\terorr:273778.70109748223\n",
      "\t\n",
      "test_with_rf: 50000 values:\n",
      "\terorr:198635.2808478588\n",
      "\t\n"
     ]
    },
    {
     "name": "stderr",
     "output_type": "stream",
     "text": [
      "/home/codemantra/Downloads/yes/lib/python3.7/site-packages/sklearn/ensemble/forest.py:246: FutureWarning: The default value of n_estimators will change from 10 in version 0.20 to 100 in 0.22.\n",
      "  \"10 in version 0.20 to 100 in 0.22.\", FutureWarning)\n"
     ]
    }
   ],
   "source": [
    "import pandas as pd\n",
    "from sklearn.tree import DecisionTreeClassifier\n",
    "from sklearn.ensemble import RandomForestRegressor\n",
    "from sklearn.metrics import mean_absolute_error\n",
    "from sklearn.metrics import accuracy_score\n",
    "from sklearn.model_selection import train_test_split\n",
    "\n",
    "def my_tree_algo(max_leaf_nodes):\n",
    "    my_model = DecisionTreeClassifier(max_leaf_nodes=max_leaf_nodes,random_state=1)\n",
    "    my_model.fit(train_input,train_output)\n",
    "    my_predictions = my_model.predict(test_input)\n",
    "    my_accuracy = accuracy_score(my_predictions, test_output)\n",
    "    return my_predictions\n",
    "\n",
    "def my_rf_algo():\n",
    "    my_model = RandomForestRegressor(random_state=1)\n",
    "    my_model.fit(train_input,train_output)\n",
    "    my_predictions = my_model.predict(test_input)\n",
    "    return my_predictions\n",
    "\n",
    "data_base = pd.read_csv('melb_data.csv')\n",
    "data_base = data_base.dropna(axis=0)\n",
    "output_value = data_base.Price\n",
    "features = ['Rooms', 'Bathroom', 'Landsize', 'Lattitude', 'Longtitude']\n",
    "input_value = data_base[features]\n",
    "train_input,test_input,train_output,test_output = train_test_split(input_value,output_value,random_state=1)\n",
    "\n",
    "for max_leaf_nodes in [5,50,500,5000,50000]:\n",
    "    print(\"node_size: \"+str(max_leaf_nodes)+\" values:\\n\\terorr:\"\n",
    "          +str(mean_absolute_error(test_output,my_tree_algo(max_leaf_nodes)))+\"\\n\\t\")\n",
    "    \n",
    "print(\"test_with_rf: \"+str(max_leaf_nodes)+\" values:\\n\\terorr:\"\n",
    "      +str(mean_absolute_error(test_output,my_rf_algo()))+\"\\n\\t\")\n"
   ]
  }
 ],
 "metadata": {
  "kernelspec": {
   "display_name": "Python 3",
   "language": "python",
   "name": "python3"
  },
  "language_info": {
   "codemirror_mode": {
    "name": "ipython",
    "version": 3
   },
   "file_extension": ".py",
   "mimetype": "text/x-python",
   "name": "python",
   "nbconvert_exporter": "python",
   "pygments_lexer": "ipython3",
   "version": "3.7.1"
  }
 },
 "nbformat": 4,
 "nbformat_minor": 2
}
