{
 "cells": [
  {
   "cell_type": "code",
   "execution_count": 24,
   "metadata": {},
   "outputs": [
    {
     "name": "stdout",
     "output_type": "stream",
     "text": [
      "error:256388.540348612\n",
      "acccuracy:0.9038089089735314\n"
     ]
    }
   ],
   "source": [
    "import pandas as pd\n",
    "\n",
    "#data which is already present\n",
    "data_base = pd.read_csv('melb_data.csv')\n",
    "\n",
    "#remove the data which cntain nan values.\n",
    "data_base = data_base.dropna(axis=0)\n",
    "\n",
    "\n",
    "# deside the output and the input models\n",
    "output_value = data_base.Price\n",
    "#deside the features for the input\n",
    "features = ['Rooms', 'Bathroom', 'Landsize', 'Lattitude', 'Longtitude']\n",
    "input_value = data_base[features]\n",
    "\n",
    "\n",
    "#split the data into trian data and test data\n",
    "from sklearn.model_selection import train_test_split\n",
    "train_input,test_input,train_output,test_output = train_test_split(input_value,output_value)\n",
    "\n",
    "#select the algorithm to perform ml operations\n",
    "from sklearn.tree import DecisionTreeRegressor\n",
    "my_model = DecisionTreeRegressor(random_state=1)\n",
    "\n",
    "#now train the model with the train data\n",
    "my_model.fit(train_input,train_output)\n",
    "\n",
    "#now your model is ready for giving predictions \n",
    "my_predictions = my_model.predict(test_input)\n",
    "\n",
    "#now validate the error of model\n",
    "from sklearn.metrics import mean_absolute_error\n",
    "my_error = mean_absolute_error(test_output,my_predictions)\n",
    "\n",
    "#we can also find the accuracy of the model\n",
    "from sklearn.metrics import accuracy_score\n",
    "my_accuracy = accuracy_score(test_output,my_predictions)\n",
    "\n",
    "print(\"error:\"+str(my_error)+\"\\nacccuracy:\"+str(my_accuracy*100))\n",
    "\n",
    "#the accuracy of the model is 0.9 which is a really not good \n",
    "#for the prediction so we need to improve the model.\n"
   ]
  }
 ],
 "metadata": {
  "kernelspec": {
   "display_name": "Python 3",
   "language": "python",
   "name": "python3"
  },
  "language_info": {
   "codemirror_mode": {
    "name": "ipython",
    "version": 3
   },
   "file_extension": ".py",
   "mimetype": "text/x-python",
   "name": "python",
   "nbconvert_exporter": "python",
   "pygments_lexer": "ipython3",
   "version": "3.7.1"
  }
 },
 "nbformat": 4,
 "nbformat_minor": 2
}
