{
 "cells": [
  {
   "cell_type": "code",
   "execution_count": 1,
   "metadata": {},
   "outputs": [],
   "source": [
    "import pandas as pd"
   ]
  },
  {
   "cell_type": "raw",
   "metadata": {},
   "source": [
    "This is the first step to import the pandas \n",
    "\n",
    "The below examples are used to populate the values in to the pandas dataframe and series."
   ]
  },
  {
   "cell_type": "code",
   "execution_count": 2,
   "metadata": {},
   "outputs": [],
   "source": [
    "test_panda_data = pd.DataFrame([1,2,3,4,5],index=['one','two','three','four','five'],columns=['numbers'])\n",
    "test_panda_series = pd.Series([1,2,3,4,5],index=['one','two','three','four','five'],name='numbers')\n",
    "test_panda_data_new = pd.DataFrame({'numbers':[1,2,3,4,5]},index=['one','two','three','four','five'])\n",
    "test_panda_series_new = pd.Series({'one':1,'two':2,'three':3,'four':4,'five':5},name='numbers')"
   ]
  },
  {
   "cell_type": "raw",
   "metadata": {},
   "source": [
    "Now let us seed the dataframes with other datas"
   ]
  },
  {
   "cell_type": "code",
   "execution_count": 5,
   "metadata": {},
   "outputs": [],
   "source": [
    "test_panda_csv = pd.read_csv('../../winemag-data_first150k.csv')"
   ]
  }
 ],
 "metadata": {
  "kernelspec": {
   "display_name": "Python 3",
   "language": "python",
   "name": "python3"
  },
  "language_info": {
   "codemirror_mode": {
    "name": "ipython",
    "version": 3
   },
   "file_extension": ".py",
   "mimetype": "text/x-python",
   "name": "python",
   "nbconvert_exporter": "python",
   "pygments_lexer": "ipython3",
   "version": "3.7.1"
  }
 },
 "nbformat": 4,
 "nbformat_minor": 2
}
